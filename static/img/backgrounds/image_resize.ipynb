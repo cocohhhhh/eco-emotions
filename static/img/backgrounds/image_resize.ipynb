{
 "cells": [
  {
   "cell_type": "code",
   "execution_count": 56,
   "metadata": {},
   "outputs": [],
   "source": [
    "from PIL import Image, ImageOps\n",
    "\n",
    "def resized_image(input_image):\n",
    "    # Get the original width and height of the image\n",
    "    width, height = input_image.size\n",
    "    print(\"Original image size: \", width, height)\n",
    "\n",
    "    # Pad the resized image to create a square image\n",
    "    padded_image = ImageOps.pad(input_image, (1200, 600), color=(255, 255, 255))\n",
    "    final_image = ImageOps.pad(padded_image, (1200, 900), color=(255, 255, 255), centering=(0.5, 0.6))\n",
    "\n",
    "    return final_image"
   ]
  },
  {
   "cell_type": "code",
   "execution_count": 57,
   "metadata": {},
   "outputs": [
    {
     "name": "stdout",
     "output_type": "stream",
     "text": [
      "Original image size:  800 488\n",
      "Resized image size:  1200 900\n"
     ]
    }
   ],
   "source": [
    "# Open the input image\n",
    "input_image = Image.open(\"background.jpg\")\n",
    "output_image = resized_image(input_image)\n",
    "width, height = output_image.size\n",
    "print(\"Resized image size: \", width, height)\n",
    "\n",
    "# Save the output image\n",
    "output_image.save(\"background_resize.jpg\")"
   ]
  },
  {
   "cell_type": "code",
   "execution_count": null,
   "metadata": {},
   "outputs": [],
   "source": []
  }
 ],
 "metadata": {
  "kernelspec": {
   "display_name": "base",
   "language": "python",
   "name": "python3"
  },
  "language_info": {
   "codemirror_mode": {
    "name": "ipython",
    "version": 3
   },
   "file_extension": ".py",
   "mimetype": "text/x-python",
   "name": "python",
   "nbconvert_exporter": "python",
   "pygments_lexer": "ipython3",
   "version": "3.8.5"
  },
  "orig_nbformat": 4
 },
 "nbformat": 4,
 "nbformat_minor": 2
}
